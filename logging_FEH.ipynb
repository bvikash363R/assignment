{
 "cells": [
  {
   "cell_type": "code",
   "execution_count": 1,
   "id": "49854082-b574-4df0-80cd-aee513319ac6",
   "metadata": {},
   "outputs": [
    {
     "name": "stdout",
     "output_type": "stream",
     "text": [
      "this is my print\n"
     ]
    }
   ],
   "source": [
    "print(\"this is my print\")"
   ]
  },
  {
   "cell_type": "code",
   "execution_count": 2,
   "id": "a569a335-be4b-4b7b-a6c9-cfb78b7aa218",
   "metadata": {},
   "outputs": [],
   "source": [
    "import logging"
   ]
  },
  {
   "cell_type": "code",
   "execution_count": 3,
   "id": "e380ce57-1825-4eac-86b7-9bddfff7c4b9",
   "metadata": {},
   "outputs": [],
   "source": [
    "logging.basicConfig(filename = \"test.log\" , level = logging.INFO)"
   ]
  },
  {
   "cell_type": "code",
   "execution_count": 4,
   "id": "7411894f-4e30-4b8b-b2df-b34aacb276b2",
   "metadata": {},
   "outputs": [],
   "source": [
    "logging.info(\"log this line is executation\")"
   ]
  },
  {
   "cell_type": "code",
   "execution_count": 5,
   "id": "4c968659-6a08-409f-8515-c443c04e0e67",
   "metadata": {},
   "outputs": [],
   "source": [
    "logging.info(\"this is my print\")"
   ]
  },
  {
   "cell_type": "code",
   "execution_count": 6,
   "id": "771061f7-16bd-4476-817a-bb37f347e8bc",
   "metadata": {},
   "outputs": [],
   "source": [
    "logging.debug(\"this is my msg\")"
   ]
  },
  {
   "cell_type": "code",
   "execution_count": 7,
   "id": "7016b3da-bdde-4c9b-8093-870409faadd7",
   "metadata": {},
   "outputs": [],
   "source": [
    "logging.warning(\"this is my warning\")"
   ]
  },
  {
   "cell_type": "code",
   "execution_count": 8,
   "id": "0b14b1c2-245c-4e02-a8de-1109d4acc4eb",
   "metadata": {},
   "outputs": [],
   "source": [
    "logging.critical(\"this is my critical\")"
   ]
  },
  {
   "cell_type": "code",
   "execution_count": 9,
   "id": "52bc451a-ab14-458d-aaf2-1f3ff0c58731",
   "metadata": {},
   "outputs": [],
   "source": [
    "logging.error(\"this is my error\")"
   ]
  },
  {
   "cell_type": "code",
   "execution_count": 10,
   "id": "e6525329-02c8-495f-b3f5-86c2fe37e55e",
   "metadata": {},
   "outputs": [],
   "source": [
    "logging.shutdown()"
   ]
  },
  {
   "cell_type": "code",
   "execution_count": 1,
   "id": "142c87e7-81f5-41ff-9157-48b480037e38",
   "metadata": {},
   "outputs": [],
   "source": [
    "import logging"
   ]
  },
  {
   "cell_type": "code",
   "execution_count": 2,
   "id": "e88e1ba8-2f6b-4da3-91e2-cccad6a11956",
   "metadata": {},
   "outputs": [],
   "source": [
    "logging.basicConfig(filename = \"test1.log\" , level = logging.DEBUG , format = '%(asctime)s %(message)s')"
   ]
  },
  {
   "cell_type": "code",
   "execution_count": 3,
   "id": "ab86bc36-7a65-4cda-bc74-21adba39bd72",
   "metadata": {},
   "outputs": [],
   "source": [
    "logging.info(\"this is my info logging\")\n",
    "logging.error(\"this is my error msg\")\n",
    "logging.critical(\"this is my critical\")"
   ]
  },
  {
   "cell_type": "code",
   "execution_count": 4,
   "id": "d582f84d-f648-442a-bb7f-04c1bc11b3fd",
   "metadata": {},
   "outputs": [],
   "source": [
    "logging.shutdown()"
   ]
  },
  {
   "cell_type": "code",
   "execution_count": 1,
   "id": "235eccdc-2ff9-4c96-905c-f97737db1336",
   "metadata": {},
   "outputs": [],
   "source": [
    "import logging"
   ]
  },
  {
   "cell_type": "code",
   "execution_count": 2,
   "id": "b6e3ec86-23c4-42d5-81dc-dad7afd5a373",
   "metadata": {},
   "outputs": [],
   "source": [
    "logging.basicConfig(filename = \"test2.log\" , level = logging.DEBUG , format = '%(asctime)s %(name)s %(levelname)s %(message)s')"
   ]
  },
  {
   "cell_type": "code",
   "execution_count": 3,
   "id": "8dbb03cc-775b-419e-b801-9f5918b8c5e1",
   "metadata": {},
   "outputs": [],
   "source": [
    "logging.info(\"this is my info logging\")\n",
    "logging.error(\"this is my error msg\")\n",
    "logging.critical(\"this is my critical\")"
   ]
  },
  {
   "cell_type": "code",
   "execution_count": 4,
   "id": "568fb4fb-db14-435c-b8ab-1f7a05c357b3",
   "metadata": {},
   "outputs": [],
   "source": [
    "l =[1, 2, 3, 34, 4, [2, 3, 4], \"sudh\" ,\"kumar\"]"
   ]
  },
  {
   "cell_type": "code",
   "execution_count": 24,
   "id": "340552cd-a997-4354-973b-48e165d9fad8",
   "metadata": {},
   "outputs": [],
   "source": [
    "l1_int =[]\n",
    "l2_str =[]\n",
    "for i in l :\n",
    "    logging.info(\"we are iterating through our list and local var is i {}\".format(l))\n",
    "    if type(i) == list :\n",
    "        logging.info(\"i am inside if statement and i am trying to check list type \" + str(i))\n",
    "        for j in i:\n",
    "            logging.info(\"i am in another for loop for list inside list element \" +str(j))\n",
    "            if type(j) == int:\n",
    "                logging.info(\"i am inside if statement \"+str(j))\n",
    "                l1_int.append(j)\n",
    "    elif type(i) == int:\n",
    "        l1_int.append(i)\n",
    "    elif type(i) == str:\n",
    "        l2_str.append(i)\n",
    "logging.info(\"my final result for int is {l1} and str is {l2}\".format(l1 =l1_int, l2 = l2_str))        "
   ]
  },
  {
   "cell_type": "code",
   "execution_count": 19,
   "id": "1557f038-dd4c-4df6-8dbd-f804f7210ead",
   "metadata": {},
   "outputs": [
    {
     "data": {
      "text/plain": [
       "[1, 2, 3, 34, 4, 2, 3, 4]"
      ]
     },
     "execution_count": 19,
     "metadata": {},
     "output_type": "execute_result"
    }
   ],
   "source": [
    "l1_int"
   ]
  },
  {
   "cell_type": "code",
   "execution_count": 20,
   "id": "d96aeff7-ced5-44e4-b424-94613d5a444d",
   "metadata": {},
   "outputs": [
    {
     "data": {
      "text/plain": [
       "['sudh', 'kumar']"
      ]
     },
     "execution_count": 20,
     "metadata": {},
     "output_type": "execute_result"
    }
   ],
   "source": [
    "l2_str"
   ]
  },
  {
   "cell_type": "code",
   "execution_count": null,
   "id": "12b3baa0-b0e1-4f00-a6d0-b6a24e689b6a",
   "metadata": {},
   "outputs": [],
   "source": []
  }
 ],
 "metadata": {
  "kernelspec": {
   "display_name": "Python 3 (ipykernel)",
   "language": "python",
   "name": "python3"
  },
  "language_info": {
   "codemirror_mode": {
    "name": "ipython",
    "version": 3
   },
   "file_extension": ".py",
   "mimetype": "text/x-python",
   "name": "python",
   "nbconvert_exporter": "python",
   "pygments_lexer": "ipython3",
   "version": "3.10.8"
  }
 },
 "nbformat": 4,
 "nbformat_minor": 5
}
