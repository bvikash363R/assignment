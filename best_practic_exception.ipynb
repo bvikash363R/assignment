{
 "cells": [
  {
   "cell_type": "code",
   "execution_count": 1,
   "id": "c9f2c4c2-5109-40e1-bb25-8c7a20be034f",
   "metadata": {},
   "outputs": [
    {
     "name": "stdout",
     "output_type": "stream",
     "text": [
      "division by zero\n"
     ]
    }
   ],
   "source": [
    "# user alway a specific exceptio\n",
    "try:\n",
    "    10/0\n",
    "except Exception as e:\n",
    "    print(e)"
   ]
  },
  {
   "cell_type": "code",
   "execution_count": 2,
   "id": "f2b29b10-19ed-4e3a-8928-8ab92761b3a0",
   "metadata": {},
   "outputs": [
    {
     "name": "stdout",
     "output_type": "stream",
     "text": [
      "division by zero\n"
     ]
    }
   ],
   "source": [
    "try:\n",
    "    10/0\n",
    "except ZeroDivisionError as e:\n",
    "    print(e)"
   ]
  },
  {
   "cell_type": "code",
   "execution_count": 4,
   "id": "d4e30fb6-a9f6-420e-a3bf-c3d63e6e542f",
   "metadata": {},
   "outputs": [
    {
     "name": "stdout",
     "output_type": "stream",
     "text": [
      "i am trying to handle a zerodivision error.  division by zero\n"
     ]
    }
   ],
   "source": [
    "try:\n",
    "    10/0\n",
    "except ZeroDivisionError as e:\n",
    "    print(\"i am trying to handle a zerodivision error. \", e)"
   ]
  },
  {
   "cell_type": "code",
   "execution_count": 6,
   "id": "02c28d63-714f-4adf-bfeb-8907bc7fbc8a",
   "metadata": {},
   "outputs": [],
   "source": [
    "import logging\n",
    "logging.basicConfig(filename = \"error.log\",level = logging.ERROR,format = \"%(asctime)s %(message)s\")\n",
    "try:\n",
    "    10/0\n",
    "except ZeroDivisionError as e:\n",
    "    logging.error(\"i am trying to handle a zerodivision error. {}\".format(e))"
   ]
  },
  {
   "cell_type": "code",
   "execution_count": 10,
   "id": "3fea5ee5-08d1-4edc-adcd-2317c80317f7",
   "metadata": {},
   "outputs": [],
   "source": [
    "#always avoid to write a multiple exception error\n",
    "import logging\n",
    "logging.basicConfig(filename = \"error.log\",level = logging.ERROR,format = \"%(asctime)s %(message)s\")\n",
    "try:\n",
    "    10/0\n",
    "except FileNotFoundError as e:\n",
    "    logging.error(\"i am trying to handle a file not found error. {}\".format(e))\n",
    "except AttributeError as e:\n",
    "    logging.error(\"i am trying to handle a Attribute error. {}\".format(e))\n",
    "except ZeroDivisionError as e:\n",
    "    logging.error(\"i am trying to handle a zerodivision error. {}\".format(e))"
   ]
  },
  {
   "cell_type": "code",
   "execution_count": null,
   "id": "ac0de349-c835-460b-8015-c59099d79d59",
   "metadata": {},
   "outputs": [],
   "source": [
    "#Document all the error \n",
    "#cleanup all the resources\n",
    "try:\n",
    "    with open (\"test.txt\", 'w') as f:\n",
    "        f.write(\"I am vikash\")\n",
    "except ZeroDivisionError as e:\n",
    "    logging.error(\"i am trying to handle a zerodivision error. {}\".format(e))"
   ]
  },
  {
   "cell_type": "code",
   "execution_count": null,
   "id": "e76db82f-1ec5-4f0b-8a2b-ee0f4006056d",
   "metadata": {},
   "outputs": [],
   "source": []
  }
 ],
 "metadata": {
  "kernelspec": {
   "display_name": "Python 3 (ipykernel)",
   "language": "python",
   "name": "python3"
  },
  "language_info": {
   "codemirror_mode": {
    "name": "ipython",
    "version": 3
   },
   "file_extension": ".py",
   "mimetype": "text/x-python",
   "name": "python",
   "nbconvert_exporter": "python",
   "pygments_lexer": "ipython3",
   "version": "3.10.8"
  }
 },
 "nbformat": 4,
 "nbformat_minor": 5
}
