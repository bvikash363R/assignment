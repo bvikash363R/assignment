{
 "cells": [
  {
   "cell_type": "code",
   "execution_count": 2,
   "id": "7adcde20-ffe2-40a9-ad3f-a52cf5552199",
   "metadata": {},
   "outputs": [],
   "source": [
    "data =  {\n",
    "    \"name\" : \"sudh\",\n",
    "    \"mail_id\" : \"sudh@gmail.com\",\n",
    "    \"phone_number\" : 6205868469,\n",
    "    \"subject\" :[\"data science\", \"big data\", \"data analytics\"]\n",
    "}"
   ]
  },
  {
   "cell_type": "code",
   "execution_count": 3,
   "id": "e1a91d2a-2ee8-437c-8eb0-f49f7083fe8c",
   "metadata": {},
   "outputs": [],
   "source": [
    "import json"
   ]
  },
  {
   "cell_type": "code",
   "execution_count": 4,
   "id": "237d6114-b7b3-4c77-8b75-8bd273cbf41e",
   "metadata": {},
   "outputs": [],
   "source": [
    "with open(\"data.json\", 'w') as f:\n",
    "    json.dump(data ,f)"
   ]
  },
  {
   "cell_type": "code",
   "execution_count": 5,
   "id": "7a1daf8d-72ca-4283-82a5-20e9d4743a49",
   "metadata": {},
   "outputs": [],
   "source": [
    "with open(\"data.json\", 'r') as f:\n",
    "    data = json.load(f)"
   ]
  },
  {
   "cell_type": "code",
   "execution_count": 6,
   "id": "bb8ca9cb-6de9-48b1-9cc0-f067513bae9c",
   "metadata": {},
   "outputs": [
    {
     "data": {
      "text/plain": [
       "{'name': 'sudh',\n",
       " 'mail_id': 'sudh@gmail.com',\n",
       " 'phone_number': 6205868469,\n",
       " 'subject': ['data science', 'big data', 'data analytics']}"
      ]
     },
     "execution_count": 6,
     "metadata": {},
     "output_type": "execute_result"
    }
   ],
   "source": [
    "data"
   ]
  },
  {
   "cell_type": "code",
   "execution_count": 8,
   "id": "e6ed11a3-3706-40d7-aa38-f461df416ce6",
   "metadata": {},
   "outputs": [
    {
     "data": {
      "text/plain": [
       "['data science', 'big data', 'data analytics']"
      ]
     },
     "execution_count": 8,
     "metadata": {},
     "output_type": "execute_result"
    }
   ],
   "source": [
    "data['subject']"
   ]
  },
  {
   "cell_type": "code",
   "execution_count": 9,
   "id": "dd19cba7-0905-446c-93c3-9e5dd3493566",
   "metadata": {},
   "outputs": [
    {
     "data": {
      "text/plain": [
       "'big data'"
      ]
     },
     "execution_count": 9,
     "metadata": {},
     "output_type": "execute_result"
    }
   ],
   "source": [
    "data['subject'][1]"
   ]
  },
  {
   "cell_type": "code",
   "execution_count": 10,
   "id": "302157e4-40fa-469f-9f2e-9166f2ebdfe1",
   "metadata": {},
   "outputs": [],
   "source": [
    "import csv"
   ]
  },
  {
   "cell_type": "code",
   "execution_count": 11,
   "id": "ca3a6009-c3a8-45e7-8aed-0d3b8d85dc9e",
   "metadata": {},
   "outputs": [],
   "source": [
    "data = [['name',\"email_id\",'phone'],\n",
    "        [\"sudh\",\"sudh@gmail.com\",23367363],\n",
    "        [\"krish\",\"krish@gmail.com\",987654]\n",
    "]"
   ]
  },
  {
   "cell_type": "code",
   "execution_count": 13,
   "id": "deb338df-3ba1-46b7-afdd-4523324a5c4b",
   "metadata": {},
   "outputs": [],
   "source": [
    "with open(\"data.csv\", 'w') as f:\n",
    "    writer = csv.writer(f)\n",
    "    \n",
    "    for i in data:\n",
    "        writer.writerow(i)"
   ]
  },
  {
   "cell_type": "code",
   "execution_count": 14,
   "id": "13dea366-317e-4ca3-85af-f12747a6add6",
   "metadata": {},
   "outputs": [
    {
     "name": "stdout",
     "output_type": "stream",
     "text": [
      "['name', 'email_id', 'phone']\n",
      "['sudh', 'sudh@gmail.com', '23367363']\n",
      "['krish', 'krish@gmail.com', '987654']\n"
     ]
    }
   ],
   "source": [
    "with open (\"data.csv\",\"r\") as f:\n",
    "    read_data = csv.reader(f)\n",
    "    \n",
    "    for i in read_data :\n",
    "        print(i)"
   ]
  },
  {
   "cell_type": "code",
   "execution_count": 20,
   "id": "2696627c-a21c-4eab-bec7-fd5ee96d60e5",
   "metadata": {},
   "outputs": [],
   "source": [
    "with open(\"text4.bin\",\"wb\") as f:\n",
    "    f.write(b\"\\x01\\x02\\0x3\\x5325563563562\")"
   ]
  },
  {
   "cell_type": "code",
   "execution_count": 21,
   "id": "afd1d1e4-e1e7-4cac-955c-d403f88f5138",
   "metadata": {},
   "outputs": [
    {
     "name": "stdout",
     "output_type": "stream",
     "text": [
      "b'\\x01\\x02\\x00x3S25563563562'\n"
     ]
    }
   ],
   "source": [
    "with open(\"text4.bin\",\"rb\") as f :\n",
    "    print(f.read())"
   ]
  },
  {
   "cell_type": "code",
   "execution_count": null,
   "id": "5fc60c29-bd2f-4a8c-ba7d-877b9b4d5be5",
   "metadata": {},
   "outputs": [],
   "source": []
  },
  {
   "cell_type": "code",
   "execution_count": null,
   "id": "f800aea1-2f24-4dcc-acad-d4c6b6ca0b57",
   "metadata": {},
   "outputs": [],
   "source": []
  }
 ],
 "metadata": {
  "kernelspec": {
   "display_name": "Python 3 (ipykernel)",
   "language": "python",
   "name": "python3"
  },
  "language_info": {
   "codemirror_mode": {
    "name": "ipython",
    "version": 3
   },
   "file_extension": ".py",
   "mimetype": "text/x-python",
   "name": "python",
   "nbconvert_exporter": "python",
   "pygments_lexer": "ipython3",
   "version": "3.10.8"
  }
 },
 "nbformat": 4,
 "nbformat_minor": 5
}
