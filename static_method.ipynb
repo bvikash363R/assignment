{
 "cells": [
  {
   "cell_type": "code",
   "execution_count": 1,
   "id": "754987be-dc0b-4111-8e35-7c697be3e6f8",
   "metadata": {},
   "outputs": [],
   "source": [
    "class pwskills :\n",
    "    def student_details(self, name , email, number):\n",
    "        print(name, email, number)"
   ]
  },
  {
   "cell_type": "code",
   "execution_count": 2,
   "id": "e4a870a4-8a8d-4932-b1da-de73606ec13c",
   "metadata": {},
   "outputs": [],
   "source": [
    "pw = pwskills()"
   ]
  },
  {
   "cell_type": "code",
   "execution_count": 4,
   "id": "6af01573-c1a8-4ba7-a750-7109a93da20c",
   "metadata": {},
   "outputs": [
    {
     "name": "stdout",
     "output_type": "stream",
     "text": [
      "sudh sudh@gmail.com 76476467\n"
     ]
    }
   ],
   "source": [
    "pw.student_details(\"sudh\",\"sudh@gmail.com\",76476467)"
   ]
  },
  {
   "cell_type": "code",
   "execution_count": 1,
   "id": "f965d8db-1ad7-482e-b89a-3ad9f46ad782",
   "metadata": {},
   "outputs": [],
   "source": [
    "class pwskills1 :\n",
    "    def student_details(self, name , email, number):\n",
    "        print(name, email, number)\n",
    "        \n",
    "    @staticmethod\n",
    "    def mentor_class(list_mentor) :\n",
    "        print(list_mentor)\n",
    "        \n",
    "    def mentor(self, mentor_list):\n",
    "        print(mentor_list)"
   ]
  },
  {
   "cell_type": "code",
   "execution_count": 2,
   "id": "2e809b42-883f-4580-8a82-d9c6e067de39",
   "metadata": {},
   "outputs": [
    {
     "name": "stdout",
     "output_type": "stream",
     "text": [
      "['sudh', 'krish']\n"
     ]
    }
   ],
   "source": [
    "pwskills1.mentor_class([\"sudh\",\"krish\"])"
   ]
  },
  {
   "cell_type": "code",
   "execution_count": 15,
   "id": "0f126101-1d05-47fd-bb29-ecf80e536ffb",
   "metadata": {},
   "outputs": [],
   "source": [
    "class pwskills2 :\n",
    "    def student_details(self, name , email, number):\n",
    "        print(name, email, number)\n",
    "        \n",
    "        \n",
    "    @staticmethod\n",
    "    def mentor_mail_id(mail_id_mentor) :\n",
    "        print(mail_id_mentor)    \n",
    "        \n",
    "        \n",
    "    @staticmethod\n",
    "    def mentor_class(list_mentor) :\n",
    "        pwskills2.mentor_mail_id([\"sudh@gamil.com\",\"krishn@gmail.com\"])\n",
    "        print(list_mentor)\n",
    "        \n",
    "    @classmethod\n",
    "    def class_name(cls):\n",
    "        cls.mentor_class([\"sudh\",\"krish\"])\n",
    "        \n",
    "        \n",
    "    def mentor(self, mentor_list):\n",
    "        print(mentor_list)\n",
    "        self.mentor_class([\"sudh\",\"krish\"])"
   ]
  },
  {
   "cell_type": "code",
   "execution_count": 16,
   "id": "aa543f0c-cebf-4690-b9d9-7bc4703aba41",
   "metadata": {},
   "outputs": [
    {
     "name": "stdout",
     "output_type": "stream",
     "text": [
      "['sudh@gamil.com', 'krishn@gmail.com']\n",
      "['sudh', 'krish']\n"
     ]
    }
   ],
   "source": [
    "pwskills2.class_name()"
   ]
  },
  {
   "cell_type": "code",
   "execution_count": 17,
   "id": "ebba7827-1019-45cf-9ea5-0a8031ec1823",
   "metadata": {},
   "outputs": [
    {
     "name": "stdout",
     "output_type": "stream",
     "text": [
      "['sudh@gamil.com', 'krishn@gmail.com']\n",
      "['sudh', 'krish']\n"
     ]
    }
   ],
   "source": [
    "pwskills2.mentor_class([\"sudh\",\"krish\"])"
   ]
  },
  {
   "cell_type": "code",
   "execution_count": 18,
   "id": "a82cbaec-b67b-440d-b9e1-35c4b0f28a76",
   "metadata": {},
   "outputs": [],
   "source": [
    "pw = pwskills2()"
   ]
  },
  {
   "cell_type": "code",
   "execution_count": 19,
   "id": "0727acb9-afbf-4a98-8f63-02193fbaed83",
   "metadata": {},
   "outputs": [
    {
     "name": "stdout",
     "output_type": "stream",
     "text": [
      "['sudh', 'krish']\n",
      "['sudh@gamil.com', 'krishn@gmail.com']\n",
      "['sudh', 'krish']\n"
     ]
    }
   ],
   "source": [
    "pw.mentor([\"sudh\",\"krish\"])"
   ]
  },
  {
   "cell_type": "code",
   "execution_count": null,
   "id": "ad7be5cf-1249-491c-bd78-402c6485fd37",
   "metadata": {},
   "outputs": [],
   "source": []
  }
 ],
 "metadata": {
  "kernelspec": {
   "display_name": "Python 3 (ipykernel)",
   "language": "python",
   "name": "python3"
  },
  "language_info": {
   "codemirror_mode": {
    "name": "ipython",
    "version": 3
   },
   "file_extension": ".py",
   "mimetype": "text/x-python",
   "name": "python",
   "nbconvert_exporter": "python",
   "pygments_lexer": "ipython3",
   "version": "3.10.8"
  }
 },
 "nbformat": 4,
 "nbformat_minor": 5
}
