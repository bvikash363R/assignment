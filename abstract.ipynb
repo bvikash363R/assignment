{
 "cells": [
  {
   "cell_type": "code",
   "execution_count": 4,
   "id": "a1582be7-c11b-4f50-be47-2f891532f7a4",
   "metadata": {},
   "outputs": [],
   "source": [
    "import abc\n",
    "class pwskills :\n",
    "    @abc.abstractmethod\n",
    "    def student_detials(self) :\n",
    "        pass\n",
    "    \n",
    "    @abc.abstractmethod\n",
    "    def student_assignment(self) :\n",
    "        pass\n",
    "    \n",
    "    @abc.abstractmethod\n",
    "    def student_marks(self) :\n",
    "        pass"
   ]
  },
  {
   "cell_type": "code",
   "execution_count": 19,
   "id": "b75fd343-93e9-48dc-85a6-7aeb21aead8c",
   "metadata": {},
   "outputs": [],
   "source": [
    "class student_detils(pwskills) :\n",
    "    \n",
    "    def student_detials(self) :\n",
    "        return \"this is a meth for taking student detials\"\n",
    "    \n",
    "    def student_assignment(self) :\n",
    "        return \"this is a meth for asking detials for a pertaicult student\"\n",
    "    "
   ]
  },
  {
   "cell_type": "code",
   "execution_count": 20,
   "id": "fc92665e-ac86-4e8f-9956-b7568f58f2aa",
   "metadata": {},
   "outputs": [],
   "source": [
    "class data_science_master(pwskills) :\n",
    "    def student_detials(self) :\n",
    "        return \"this will return a student detials for data science master\"\n",
    "    \n",
    "    def student_assignment(self):\n",
    "        return \"this will give you a student assignment detial for data science master\""
   ]
  },
  {
   "cell_type": "code",
   "execution_count": 21,
   "id": "9d4661ac-9c8d-41b5-8ac5-0c6c9db6b76d",
   "metadata": {},
   "outputs": [
    {
     "data": {
      "text/plain": [
       "'this will return a student detials for data science master'"
      ]
     },
     "execution_count": 21,
     "metadata": {},
     "output_type": "execute_result"
    }
   ],
   "source": [
    "dsm = data_science_master()\n",
    "dsm.student_detials()"
   ]
  },
  {
   "cell_type": "code",
   "execution_count": 22,
   "id": "df238d83-4a3b-4cd0-90a1-7bd8b94d9f5e",
   "metadata": {},
   "outputs": [
    {
     "data": {
      "text/plain": [
       "'this is a meth for asking detials for a pertaicult student'"
      ]
     },
     "execution_count": 22,
     "metadata": {},
     "output_type": "execute_result"
    }
   ],
   "source": [
    "st = student_detils()\n",
    "st.student_assignment()"
   ]
  },
  {
   "cell_type": "code",
   "execution_count": null,
   "id": "a47253de-b020-41c7-84f9-bc8057d271a9",
   "metadata": {},
   "outputs": [],
   "source": []
  }
 ],
 "metadata": {
  "kernelspec": {
   "display_name": "Python 3 (ipykernel)",
   "language": "python",
   "name": "python3"
  },
  "language_info": {
   "codemirror_mode": {
    "name": "ipython",
    "version": 3
   },
   "file_extension": ".py",
   "mimetype": "text/x-python",
   "name": "python",
   "nbconvert_exporter": "python",
   "pygments_lexer": "ipython3",
   "version": "3.10.8"
  }
 },
 "nbformat": 4,
 "nbformat_minor": 5
}
