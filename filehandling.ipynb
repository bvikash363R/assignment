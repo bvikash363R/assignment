{
 "cells": [
  {
   "cell_type": "code",
   "execution_count": 22,
   "id": "a587a34a-aa94-4e14-aab1-afbc4cc66b33",
   "metadata": {},
   "outputs": [],
   "source": [
    "f = open(\"text.txt\", 'w')"
   ]
  },
  {
   "cell_type": "code",
   "execution_count": 23,
   "id": "cbcc0f6e-4ec2-4970-a6e0-60d549095389",
   "metadata": {},
   "outputs": [
    {
     "data": {
      "text/plain": [
       "'/home/jovyan/work'"
      ]
     },
     "execution_count": 23,
     "metadata": {},
     "output_type": "execute_result"
    }
   ],
   "source": [
    "pwd"
   ]
  },
  {
   "cell_type": "code",
   "execution_count": 24,
   "id": "348299c7-f54c-43ff-988f-77860c56b972",
   "metadata": {},
   "outputs": [
    {
     "name": "stdout",
     "output_type": "stream",
     "text": [
      "abstract.ipynb      dict,conditional,loop.ipynb  inheritance.ipynb\n",
      "class_method.ipynb  encapsulation.ipynb          static_method.ipynb\n",
      "decorator.ipynb     filehandling.ipynb           text.txt\n"
     ]
    }
   ],
   "source": [
    "ls"
   ]
  },
  {
   "cell_type": "code",
   "execution_count": 25,
   "id": "4198fd8f-98ea-43eb-8a92-df0071ff6e50",
   "metadata": {},
   "outputs": [
    {
     "name": "stdout",
     "output_type": "stream",
     "text": [
      "[Errno 2] No such file or directory: 'jovyan'\n",
      "/home/jovyan/work\n"
     ]
    }
   ],
   "source": [
    "cd jovyan"
   ]
  },
  {
   "cell_type": "code",
   "execution_count": 26,
   "id": "c6f0094a-aa9c-48bc-9eed-724695e58455",
   "metadata": {},
   "outputs": [
    {
     "data": {
      "text/plain": [
       "30"
      ]
     },
     "execution_count": 26,
     "metadata": {},
     "output_type": "execute_result"
    }
   ],
   "source": [
    "f.write(\"this is my first file to write\")"
   ]
  },
  {
   "cell_type": "code",
   "execution_count": 28,
   "id": "059f4e79-1d30-4971-86be-6c1801e95cfe",
   "metadata": {},
   "outputs": [],
   "source": [
    "f.close()"
   ]
  },
  {
   "cell_type": "code",
   "execution_count": 29,
   "id": "50a9d7fb-f437-4fbe-b9ff-fcc3625cb4cc",
   "metadata": {},
   "outputs": [],
   "source": [
    "f = open(\"text.txt\", 'w')"
   ]
  },
  {
   "cell_type": "code",
   "execution_count": 30,
   "id": "0ccedfef-0199-45d2-b04f-3349b77d2b51",
   "metadata": {},
   "outputs": [
    {
     "data": {
      "text/plain": [
       "15"
      ]
     },
     "execution_count": 30,
     "metadata": {},
     "output_type": "execute_result"
    }
   ],
   "source": [
    "f.write(\"this is my file\")"
   ]
  },
  {
   "cell_type": "code",
   "execution_count": 31,
   "id": "4a7eb73f-6733-4383-bf90-253a3aa639d1",
   "metadata": {},
   "outputs": [],
   "source": [
    "f.close()"
   ]
  },
  {
   "cell_type": "code",
   "execution_count": 32,
   "id": "f44eac90-7639-4806-a643-9c1d6ff4e484",
   "metadata": {},
   "outputs": [],
   "source": [
    "f = open(\"text.txt\",'a')"
   ]
  },
  {
   "cell_type": "code",
   "execution_count": 33,
   "id": "ee3a78f4-049e-472d-8b7b-3edc5f4d75ae",
   "metadata": {},
   "outputs": [
    {
     "data": {
      "text/plain": [
       "551"
      ]
     },
     "execution_count": 33,
     "metadata": {},
     "output_type": "execute_result"
    }
   ],
   "source": [
    "f.write(\"Data science is an interdisciplinary academic field [1] that uses statistics, scientific computing, scientific methods, processes, algorithms and systems to extract or extrapolate knowledge and insights from noisy, structured, and unstructured data.[2]Data science also integrates domain knowledge from the underlying application domain (e.g., natural sciences, information technology, and medicine).[3] Data science is multifaceted and can be described as a science, a research paradigm, a research method, a discipline, a workflow, and a profession.\")"
   ]
  },
  {
   "cell_type": "code",
   "execution_count": 34,
   "id": "a1637747-dbdb-4e46-bd82-f21fc390d82a",
   "metadata": {},
   "outputs": [],
   "source": [
    "f.close()"
   ]
  },
  {
   "cell_type": "code",
   "execution_count": 35,
   "id": "2abd9bc3-832d-41eb-aba4-5b1bc4984c1d",
   "metadata": {},
   "outputs": [],
   "source": [
    "f = open(\"text.txt\", 'r')"
   ]
  },
  {
   "cell_type": "code",
   "execution_count": 36,
   "id": "539492a4-248c-4ea4-a6a7-6794666d2ee0",
   "metadata": {},
   "outputs": [
    {
     "data": {
      "text/plain": [
       "'this is my fileData science is an interdisciplinary academic field [1] that uses statistics, scientific computing, scientific methods, processes, algorithms and systems to extract or extrapolate knowledge and insights from noisy, structured, and unstructured data.[2]Data science also integrates domain knowledge from the underlying application domain (e.g., natural sciences, information technology, and medicine).[3] Data science is multifaceted and can be described as a science, a research paradigm, a research method, a discipline, a workflow, and a profession.'"
      ]
     },
     "execution_count": 36,
     "metadata": {},
     "output_type": "execute_result"
    }
   ],
   "source": [
    "f.read()"
   ]
  },
  {
   "cell_type": "code",
   "execution_count": 37,
   "id": "7491cb66-9f71-4f80-8d16-a1ac9c3e68d0",
   "metadata": {},
   "outputs": [],
   "source": [
    "data =open(\"text.txt\", 'r')"
   ]
  },
  {
   "cell_type": "code",
   "execution_count": 38,
   "id": "7a1d8aed-f02f-47de-8d71-24cf36b947e7",
   "metadata": {},
   "outputs": [
    {
     "data": {
      "text/plain": [
       "<_io.TextIOWrapper name='text.txt' mode='r' encoding='UTF-8'>"
      ]
     },
     "execution_count": 38,
     "metadata": {},
     "output_type": "execute_result"
    }
   ],
   "source": [
    "data"
   ]
  },
  {
   "cell_type": "code",
   "execution_count": 43,
   "id": "4c9aa093-8db4-4a4c-a732-5b693a473175",
   "metadata": {},
   "outputs": [
    {
     "data": {
      "text/plain": [
       "''"
      ]
     },
     "execution_count": 43,
     "metadata": {},
     "output_type": "execute_result"
    }
   ],
   "source": [
    "data.read()"
   ]
  },
  {
   "cell_type": "code",
   "execution_count": 44,
   "id": "c13f0f95-94f5-4bc8-9408-011b1126d903",
   "metadata": {},
   "outputs": [
    {
     "data": {
      "text/plain": [
       "''"
      ]
     },
     "execution_count": 44,
     "metadata": {},
     "output_type": "execute_result"
    }
   ],
   "source": [
    "data.readline()"
   ]
  },
  {
   "cell_type": "code",
   "execution_count": 46,
   "id": "9e1488a1-a817-44e8-8ee6-97fc32f0d84c",
   "metadata": {},
   "outputs": [
    {
     "data": {
      "text/plain": [
       "0"
      ]
     },
     "execution_count": 46,
     "metadata": {},
     "output_type": "execute_result"
    }
   ],
   "source": [
    "data.seek(0)"
   ]
  },
  {
   "cell_type": "code",
   "execution_count": 47,
   "id": "168691c4-7075-44eb-8a4f-b15936407d96",
   "metadata": {},
   "outputs": [
    {
     "data": {
      "text/plain": [
       "'this is my fileData science is an interdisciplinary academic field [1] that uses statistics, scientific computing, scientific methods, processes, algorithms and systems to extract or extrapolate knowledge and insights from noisy, structured, and unstructured data.[2]Data science also integrates domain knowledge from the underlying application domain (e.g., natural sciences, information technology, and medicine).[3] Data science is multifaceted and can be described as a science, a research paradigm, a research method, a discipline, a workflow, and a profession.'"
      ]
     },
     "execution_count": 47,
     "metadata": {},
     "output_type": "execute_result"
    }
   ],
   "source": [
    "data.readline()"
   ]
  },
  {
   "cell_type": "code",
   "execution_count": 48,
   "id": "2117a7d3-0724-4517-b933-8f6ec4c501c6",
   "metadata": {},
   "outputs": [
    {
     "data": {
      "text/plain": [
       "10"
      ]
     },
     "execution_count": 48,
     "metadata": {},
     "output_type": "execute_result"
    }
   ],
   "source": [
    "data.seek(10)"
   ]
  },
  {
   "cell_type": "code",
   "execution_count": 49,
   "id": "2e1f2d0c-4d7e-41b9-91fc-53db0d408497",
   "metadata": {},
   "outputs": [
    {
     "data": {
      "text/plain": [
       "' fileData science is an interdisciplinary academic field [1] that uses statistics, scientific computing, scientific methods, processes, algorithms and systems to extract or extrapolate knowledge and insights from noisy, structured, and unstructured data.[2]Data science also integrates domain knowledge from the underlying application domain (e.g., natural sciences, information technology, and medicine).[3] Data science is multifaceted and can be described as a science, a research paradigm, a research method, a discipline, a workflow, and a profession.'"
      ]
     },
     "execution_count": 49,
     "metadata": {},
     "output_type": "execute_result"
    }
   ],
   "source": [
    "data.readline()"
   ]
  },
  {
   "cell_type": "code",
   "execution_count": 50,
   "id": "0048281e-5539-47dd-bfb1-dcc0b74b4090",
   "metadata": {},
   "outputs": [],
   "source": [
    "data1 = open(\"text.txt\", 'r')"
   ]
  },
  {
   "cell_type": "code",
   "execution_count": 51,
   "id": "9a3a43f3-cc36-4866-989a-03a32dfe5310",
   "metadata": {},
   "outputs": [
    {
     "name": "stdout",
     "output_type": "stream",
     "text": [
      "this is my fileData science is an interdisciplinary academic field [1] that uses statistics, scientific computing, scientific methods, processes, algorithms and systems to extract or extrapolate knowledge and insights from noisy, structured, and unstructured data.[2]Data science also integrates domain knowledge from the underlying application domain (e.g., natural sciences, information technology, and medicine).[3] Data science is multifaceted and can be described as a science, a research paradigm, a research method, a discipline, a workflow, and a profession.\n"
     ]
    }
   ],
   "source": [
    "for i in data1 :\n",
    "    print(i)"
   ]
  },
  {
   "cell_type": "code",
   "execution_count": 52,
   "id": "828f8f5a-cc86-4f9b-a929-c2ebb9c921d9",
   "metadata": {},
   "outputs": [],
   "source": [
    "import os"
   ]
  },
  {
   "cell_type": "code",
   "execution_count": 53,
   "id": "abe11b45-f525-45e5-8cc9-d1e6107138f2",
   "metadata": {},
   "outputs": [
    {
     "data": {
      "text/plain": [
       "566"
      ]
     },
     "execution_count": 53,
     "metadata": {},
     "output_type": "execute_result"
    }
   ],
   "source": [
    "os.path.getsize(\"text.txt\")"
   ]
  },
  {
   "cell_type": "code",
   "execution_count": 59,
   "id": "c4d37f1b-af51-46ce-8b5e-cdeaef01e7e9",
   "metadata": {},
   "outputs": [],
   "source": [
    "os.remove(\"text.txt\")"
   ]
  },
  {
   "cell_type": "code",
   "execution_count": 60,
   "id": "882c97ab-c4e1-4bd2-ba70-e5af85999909",
   "metadata": {},
   "outputs": [],
   "source": [
    "f = open(\"test1.txt\", 'w')"
   ]
  },
  {
   "cell_type": "code",
   "execution_count": 61,
   "id": "6b8d08a2-fa09-4e1a-81a6-8eca84732086",
   "metadata": {},
   "outputs": [
    {
     "data": {
      "text/plain": [
       "551"
      ]
     },
     "execution_count": 61,
     "metadata": {},
     "output_type": "execute_result"
    }
   ],
   "source": [
    "f.write(\"Data science is an interdisciplinary academic field [1] that uses statistics, scientific computing, scientific methods, processes, algorithms and systems to extract or extrapolate knowledge and insights from noisy, structured, and unstructured data.[2]Data science also integrates domain knowledge from the underlying application domain (e.g., natural sciences, information technology, and medicine).[3] Data science is multifaceted and can be described as a science, a research paradigm, a research method, a discipline, a workflow, and a profession.\")"
   ]
  },
  {
   "cell_type": "code",
   "execution_count": 62,
   "id": "a6ecaa31-dab7-42a8-8a9b-2618e588c6dd",
   "metadata": {},
   "outputs": [],
   "source": [
    "f.close()"
   ]
  },
  {
   "cell_type": "code",
   "execution_count": 63,
   "id": "f70fa7f1-2c52-4f45-9b83-bfaace8dfb53",
   "metadata": {},
   "outputs": [],
   "source": [
    "os.rename(\"test1.txt\",\"new.txt\")"
   ]
  },
  {
   "cell_type": "code",
   "execution_count": 64,
   "id": "7dfc170e-975a-4ab4-880f-25b5a305a86f",
   "metadata": {},
   "outputs": [],
   "source": [
    "import shutil"
   ]
  },
  {
   "cell_type": "code",
   "execution_count": 65,
   "id": "dc784848-cbd5-4724-9c7b-e5882c0ca151",
   "metadata": {},
   "outputs": [
    {
     "data": {
      "text/plain": [
       "'copynew.txt'"
      ]
     },
     "execution_count": 65,
     "metadata": {},
     "output_type": "execute_result"
    }
   ],
   "source": [
    "shutil.copy(\"new.txt\",\"copynew.txt\")"
   ]
  },
  {
   "cell_type": "code",
   "execution_count": 66,
   "id": "86697ad4-c5a1-4b70-932f-6a6fdb7d821d",
   "metadata": {},
   "outputs": [
    {
     "name": "stdout",
     "output_type": "stream",
     "text": [
      "Data science is an interdisciplinary academic field [1] that uses statistics, scientific computing, scientific methods, processes, algorithms and systems to extract or extrapolate knowledge and insights from noisy, structured, and unstructured data.[2]Data science also integrates domain knowledge from the underlying application domain (e.g., natural sciences, information technology, and medicine).[3] Data science is multifaceted and can be described as a science, a research paradigm, a research method, a discipline, a workflow, and a profession.\n"
     ]
    }
   ],
   "source": [
    "with open(\"new.txt\",'r') as f:\n",
    "    print(f.read())"
   ]
  },
  {
   "cell_type": "code",
   "execution_count": null,
   "id": "cb8a9c8b-4ac7-43b6-a7d9-a98130fd6a7a",
   "metadata": {},
   "outputs": [],
   "source": []
  }
 ],
 "metadata": {
  "kernelspec": {
   "display_name": "Python 3 (ipykernel)",
   "language": "python",
   "name": "python3"
  },
  "language_info": {
   "codemirror_mode": {
    "name": "ipython",
    "version": 3
   },
   "file_extension": ".py",
   "mimetype": "text/x-python",
   "name": "python",
   "nbconvert_exporter": "python",
   "pygments_lexer": "ipython3",
   "version": "3.10.8"
  }
 },
 "nbformat": 4,
 "nbformat_minor": 5
}
