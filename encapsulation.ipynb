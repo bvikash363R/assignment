{
 "cells": [
  {
   "cell_type": "code",
   "execution_count": null,
   "id": "dc620b9b-8aee-43b2-80e0-d4c9c033e7b8",
   "metadata": {},
   "outputs": [],
   "source": []
  },
  {
   "cell_type": "code",
   "execution_count": 1,
   "id": "9abbad89-f16e-4334-9e93-2cd16a039c06",
   "metadata": {},
   "outputs": [],
   "source": [
    "class test :\n",
    "    \n",
    "    def __init__(self, a, b) :\n",
    "        self.a = a\n",
    "        self.b = b"
   ]
  },
  {
   "cell_type": "code",
   "execution_count": 2,
   "id": "b20d0e87-10df-49c1-85cc-de1126eef6e6",
   "metadata": {},
   "outputs": [],
   "source": [
    "t = test(23,45)"
   ]
  },
  {
   "cell_type": "code",
   "execution_count": 3,
   "id": "aed0e307-b9da-424e-8f34-ed0ee8827acb",
   "metadata": {},
   "outputs": [],
   "source": [
    "t.a = 2344567"
   ]
  },
  {
   "cell_type": "code",
   "execution_count": 32,
   "id": "f173fde1-68a5-4266-adb4-d95fb68e6391",
   "metadata": {},
   "outputs": [
    {
     "data": {
      "text/plain": [
       "2344567"
      ]
     },
     "execution_count": 32,
     "metadata": {},
     "output_type": "execute_result"
    }
   ],
   "source": [
    "t.a"
   ]
  },
  {
   "cell_type": "code",
   "execution_count": 33,
   "id": "e1002f21-5066-4ad3-be15-aec501327414",
   "metadata": {},
   "outputs": [],
   "source": [
    "class car :\n",
    "    \n",
    "    def __init__(self, year, make, model, speed) :\n",
    "        self.__year = year\n",
    "        self.__make = make\n",
    "        self.__model = model\n",
    "        self.__speed = 0\n",
    "        \n",
    "    def set_speed(self, speed) :\n",
    "        self.__speed = 0 if speed < 0 else speed\n",
    "        \n",
    "    def get_speed(self) :\n",
    "        return self.__speed"
   ]
  },
  {
   "cell_type": "code",
   "execution_count": 34,
   "id": "35a81a3a-5812-4c26-ad48-865c8d8d7422",
   "metadata": {},
   "outputs": [],
   "source": [
    "c = car(2021, \"toyata\", \"innova\", 120) "
   ]
  },
  {
   "cell_type": "code",
   "execution_count": 35,
   "id": "2cbd4033-69e3-45dd-b8e0-d2b2bc8d3109",
   "metadata": {},
   "outputs": [
    {
     "data": {
      "text/plain": [
       "2021"
      ]
     },
     "execution_count": 35,
     "metadata": {},
     "output_type": "execute_result"
    }
   ],
   "source": [
    "c._car__year"
   ]
  },
  {
   "cell_type": "code",
   "execution_count": 36,
   "id": "244988cf-9406-4c71-8df7-8e66366f56c8",
   "metadata": {},
   "outputs": [],
   "source": [
    "c.set_speed(89)"
   ]
  },
  {
   "cell_type": "code",
   "execution_count": 37,
   "id": "ec7e96b0-2adf-48d7-85b3-df4d6a18dc8b",
   "metadata": {},
   "outputs": [
    {
     "data": {
      "text/plain": [
       "89"
      ]
     },
     "execution_count": 37,
     "metadata": {},
     "output_type": "execute_result"
    }
   ],
   "source": [
    "c.get_speed()"
   ]
  },
  {
   "cell_type": "code",
   "execution_count": 38,
   "id": "f3f75050-cd21-47ef-9fc7-78091d375094",
   "metadata": {},
   "outputs": [],
   "source": [
    "class bank_account :\n",
    "    \n",
    "    def __init__(self, balance) :\n",
    "        self.__balance = balance\n",
    "      \n",
    "    def deposit(self, amount) :\n",
    "        self.__balance = self.__balance + amount\n",
    "        \n",
    "    def withdrow(self, amount):\n",
    "        if amount <= self.__balance :\n",
    "            self.__balance = self.__balance - amount\n",
    "            return True\n",
    "        else :\n",
    "            return False\n",
    "                \n",
    "    def get_balance(self) :\n",
    "        return self.__balance"
   ]
  },
  {
   "cell_type": "code",
   "execution_count": 39,
   "id": "a33daa35-5654-430a-8362-531bcc168fc9",
   "metadata": {},
   "outputs": [],
   "source": [
    "sudh = bank_account(1000)"
   ]
  },
  {
   "cell_type": "code",
   "execution_count": 40,
   "id": "c032bd5a-d249-443d-aca9-7e57537d0b42",
   "metadata": {},
   "outputs": [
    {
     "data": {
      "text/plain": [
       "1000"
      ]
     },
     "execution_count": 40,
     "metadata": {},
     "output_type": "execute_result"
    }
   ],
   "source": [
    "sudh.get_balance()"
   ]
  },
  {
   "cell_type": "code",
   "execution_count": 41,
   "id": "2e806901-47e5-4781-8e62-c3df0c4863e9",
   "metadata": {},
   "outputs": [],
   "source": [
    "sudh.deposit(5000)"
   ]
  },
  {
   "cell_type": "code",
   "execution_count": 42,
   "id": "b25909cc-5d11-4c0e-b316-9081a0217e81",
   "metadata": {},
   "outputs": [
    {
     "data": {
      "text/plain": [
       "6000"
      ]
     },
     "execution_count": 42,
     "metadata": {},
     "output_type": "execute_result"
    }
   ],
   "source": [
    "sudh.get_balance()"
   ]
  },
  {
   "cell_type": "code",
   "execution_count": 43,
   "id": "5cc31863-b322-48ad-b755-69bd8eba5a5c",
   "metadata": {},
   "outputs": [
    {
     "data": {
      "text/plain": [
       "True"
      ]
     },
     "execution_count": 43,
     "metadata": {},
     "output_type": "execute_result"
    }
   ],
   "source": [
    "sudh.withdrow(1000)"
   ]
  },
  {
   "cell_type": "code",
   "execution_count": 44,
   "id": "b1dda62e-add5-4d29-87cf-d37e051532b7",
   "metadata": {},
   "outputs": [
    {
     "data": {
      "text/plain": [
       "5000"
      ]
     },
     "execution_count": 44,
     "metadata": {},
     "output_type": "execute_result"
    }
   ],
   "source": [
    "sudh.get_balance()"
   ]
  },
  {
   "cell_type": "code",
   "execution_count": 45,
   "id": "844a0342-017c-4bba-9116-55ba02a65e12",
   "metadata": {},
   "outputs": [
    {
     "data": {
      "text/plain": [
       "False"
      ]
     },
     "execution_count": 45,
     "metadata": {},
     "output_type": "execute_result"
    }
   ],
   "source": [
    "sudh.withdrow(9000)"
   ]
  },
  {
   "cell_type": "code",
   "execution_count": 46,
   "id": "e403649f-7064-456f-9f21-090febc086c4",
   "metadata": {},
   "outputs": [
    {
     "data": {
      "text/plain": [
       "5000"
      ]
     },
     "execution_count": 46,
     "metadata": {},
     "output_type": "execute_result"
    }
   ],
   "source": [
    "sudh.get_balance()"
   ]
  },
  {
   "cell_type": "code",
   "execution_count": null,
   "id": "97063a1a-e28d-4df7-9846-25d37a041545",
   "metadata": {},
   "outputs": [],
   "source": []
  }
 ],
 "metadata": {
  "kernelspec": {
   "display_name": "Python 3 (ipykernel)",
   "language": "python",
   "name": "python3"
  },
  "language_info": {
   "codemirror_mode": {
    "name": "ipython",
    "version": 3
   },
   "file_extension": ".py",
   "mimetype": "text/x-python",
   "name": "python",
   "nbconvert_exporter": "python",
   "pygments_lexer": "ipython3",
   "version": "3.10.8"
  }
 },
 "nbformat": 4,
 "nbformat_minor": 5
}
