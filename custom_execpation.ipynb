{
 "cells": [
  {
   "cell_type": "code",
   "execution_count": 1,
   "id": "8576947e-6a24-4dc7-85e2-bf20486a35f6",
   "metadata": {},
   "outputs": [
    {
     "name": "stdin",
     "output_type": "stream",
     "text": [
      "Enter your age : -122\n"
     ]
    }
   ],
   "source": [
    "age = int(input(\"Enter your age :\"))"
   ]
  },
  {
   "cell_type": "code",
   "execution_count": 8,
   "id": "9c70505e-dfec-4f80-9620-65e31f06295d",
   "metadata": {},
   "outputs": [],
   "source": [
    "class validateage(Exception):\n",
    "    def __init__(self, msg):\n",
    "        self.msg = msg\n",
    "        "
   ]
  },
  {
   "cell_type": "code",
   "execution_count": 9,
   "id": "a23cc283-7107-45c2-8c35-19318fd8a63f",
   "metadata": {},
   "outputs": [],
   "source": [
    "def validaetage(age):\n",
    "    if age < 0 :\n",
    "        raise validateage(\"entered age is negative \")\n",
    "    elif age > 200 :\n",
    "        raise validateage(\"entered age is very very high \")\n",
    "    else :\n",
    "        print(\"age is valid \")"
   ]
  },
  {
   "cell_type": "code",
   "execution_count": 11,
   "id": "575a464f-b734-4870-912d-c0f7da63eb6b",
   "metadata": {},
   "outputs": [
    {
     "name": "stdin",
     "output_type": "stream",
     "text": [
      "enter your age: 344\n"
     ]
    },
    {
     "name": "stdout",
     "output_type": "stream",
     "text": [
      "entered age is very very high \n"
     ]
    }
   ],
   "source": [
    "try:\n",
    "    age = int(input(\"enter your age:\"))\n",
    "    validaetage(age)\n",
    "except validateage as e :\n",
    "    print(e)\n",
    "    "
   ]
  },
  {
   "cell_type": "code",
   "execution_count": null,
   "id": "b3f0e3f9-acae-43aa-911b-4861c294197a",
   "metadata": {},
   "outputs": [],
   "source": []
  }
 ],
 "metadata": {
  "kernelspec": {
   "display_name": "Python 3 (ipykernel)",
   "language": "python",
   "name": "python3"
  },
  "language_info": {
   "codemirror_mode": {
    "name": "ipython",
    "version": 3
   },
   "file_extension": ".py",
   "mimetype": "text/x-python",
   "name": "python",
   "nbconvert_exporter": "python",
   "pygments_lexer": "ipython3",
   "version": "3.10.8"
  }
 },
 "nbformat": 4,
 "nbformat_minor": 5
}
