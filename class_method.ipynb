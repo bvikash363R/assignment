{
 "cells": [
  {
   "cell_type": "code",
   "execution_count": 1,
   "id": "df7c19f2-d7da-4ef5-bb37-00a77a6f03d0",
   "metadata": {},
   "outputs": [],
   "source": [
    "class pwskills :\n",
    "    def __init__(self, name, email) :\n",
    "        self.name = name\n",
    "        self.email = email\n",
    "        \n",
    "    def student_details(self):\n",
    "        print(self.name, self.email)"
   ]
  },
  {
   "cell_type": "code",
   "execution_count": 2,
   "id": "10c1d67b-41d6-4841-94fe-818a3ac5aec1",
   "metadata": {},
   "outputs": [],
   "source": [
    "pw = pwskills(\"rohan\", \"rohna@gmail.com\")"
   ]
  },
  {
   "cell_type": "code",
   "execution_count": 3,
   "id": "ef5e72dc-0f99-4b10-bc86-a3e1dba70fd2",
   "metadata": {},
   "outputs": [
    {
     "data": {
      "text/plain": [
       "'rohan'"
      ]
     },
     "execution_count": 3,
     "metadata": {},
     "output_type": "execute_result"
    }
   ],
   "source": [
    "pw.name"
   ]
  },
  {
   "cell_type": "code",
   "execution_count": 4,
   "id": "df6bab10-1759-4f8a-bbbd-f98bc1ba80d4",
   "metadata": {},
   "outputs": [
    {
     "data": {
      "text/plain": [
       "'rohna@gmail.com'"
      ]
     },
     "execution_count": 4,
     "metadata": {},
     "output_type": "execute_result"
    }
   ],
   "source": [
    "pw.email"
   ]
  },
  {
   "cell_type": "code",
   "execution_count": 5,
   "id": "024ca465-e477-43ef-8145-a1a196dad997",
   "metadata": {},
   "outputs": [
    {
     "name": "stdout",
     "output_type": "stream",
     "text": [
      "rohan rohna@gmail.com\n"
     ]
    }
   ],
   "source": [
    "pw.student_details()"
   ]
  },
  {
   "cell_type": "code",
   "execution_count": 11,
   "id": "9bab345c-fe78-4566-a2a2-10b323f34a58",
   "metadata": {},
   "outputs": [],
   "source": [
    "class pwskills1 :\n",
    "    def __init__(self, name, email) :\n",
    "        self.name = name\n",
    "        self.email = email\n",
    "        \n",
    "    @classmethod\n",
    "    def details(cls, name, email):\n",
    "        return cls(name, email)\n",
    "    \n",
    "    def student_details(self):\n",
    "        print(self.name, self.email)"
   ]
  },
  {
   "cell_type": "code",
   "execution_count": 7,
   "id": "20835d34-61a5-463d-bee9-3437d242153e",
   "metadata": {},
   "outputs": [],
   "source": [
    "pw = pwskills1.details(\"sudh\", \"sudh@gmail.com\")"
   ]
  },
  {
   "cell_type": "code",
   "execution_count": 8,
   "id": "b1418fe2-d365-4d09-8da5-baa286cc3ebe",
   "metadata": {},
   "outputs": [
    {
     "data": {
      "text/plain": [
       "'sudh'"
      ]
     },
     "execution_count": 8,
     "metadata": {},
     "output_type": "execute_result"
    }
   ],
   "source": [
    "pw.name"
   ]
  },
  {
   "cell_type": "code",
   "execution_count": 9,
   "id": "ca02d165-1ef1-4076-889c-307904bbdc8c",
   "metadata": {},
   "outputs": [
    {
     "data": {
      "text/plain": [
       "'sudh@gmail.com'"
      ]
     },
     "execution_count": 9,
     "metadata": {},
     "output_type": "execute_result"
    }
   ],
   "source": [
    "pw.email"
   ]
  },
  {
   "cell_type": "code",
   "execution_count": 12,
   "id": "5970bc8f-48ed-450d-b1b8-c37ae81d4a12",
   "metadata": {},
   "outputs": [
    {
     "name": "stdout",
     "output_type": "stream",
     "text": [
      "sudh sudh@gmail.com\n"
     ]
    }
   ],
   "source": [
    "pw.student_details()"
   ]
  },
  {
   "cell_type": "code",
   "execution_count": 28,
   "id": "15f9f906-0a7a-4e28-aa7d-4ee863c09323",
   "metadata": {},
   "outputs": [],
   "source": [
    "class pwskills2 :\n",
    "    \n",
    "    mobile_num = 62058686\n",
    "    \n",
    "    def __init__(self, name, email) :\n",
    "        self.name = name\n",
    "        self.email = email\n",
    "        \n",
    "        \n",
    "    @classmethod\n",
    "    def change_number(cls, mobile):\n",
    "        pwskills2.mobile_num = mobile\n",
    "        \n",
    "    @classmethod\n",
    "    def details(cls, name, email):\n",
    "        return cls(name, email)\n",
    "    \n",
    "    def student_details(self):\n",
    "        print(self.name, self.email,pwskills2.mobile_num)\n",
    "        \n",
    "        "
   ]
  },
  {
   "cell_type": "code",
   "execution_count": 31,
   "id": "9575e006-886f-495f-8207-0e4b6d222f30",
   "metadata": {},
   "outputs": [],
   "source": [
    "pw = pwskills2.details(\"rohna\", \"rohan@gmail.com\")"
   ]
  },
  {
   "cell_type": "code",
   "execution_count": 32,
   "id": "4a0cf883-551f-464b-af9b-5242111db0a7",
   "metadata": {},
   "outputs": [
    {
     "name": "stdout",
     "output_type": "stream",
     "text": [
      "rohna rohan@gmail.com 62058686\n"
     ]
    }
   ],
   "source": [
    "pw.student_details()"
   ]
  },
  {
   "cell_type": "code",
   "execution_count": 29,
   "id": "49dc9004-34db-486e-a117-affcbddaa700",
   "metadata": {},
   "outputs": [],
   "source": [
    "pw_obj = pwskills2(\"sudh\",\"sudh@gmail.com\")"
   ]
  },
  {
   "cell_type": "code",
   "execution_count": 30,
   "id": "a3277a56-12c1-40d0-ac47-be9a5df3887f",
   "metadata": {},
   "outputs": [
    {
     "name": "stdout",
     "output_type": "stream",
     "text": [
      "sudh sudh@gmail.com 62058686\n"
     ]
    }
   ],
   "source": [
    "pw_obj.student_details()"
   ]
  },
  {
   "cell_type": "code",
   "execution_count": 26,
   "id": "ab8ef240-3324-4ae0-83d8-dfd2a8009bb2",
   "metadata": {},
   "outputs": [],
   "source": [
    "pwskills2.change_number(123456)"
   ]
  },
  {
   "cell_type": "code",
   "execution_count": 27,
   "id": "33408ac6-cf93-4f17-a894-93ef8ec1f9a5",
   "metadata": {},
   "outputs": [
    {
     "data": {
      "text/plain": [
       "123456"
      ]
     },
     "execution_count": 27,
     "metadata": {},
     "output_type": "execute_result"
    }
   ],
   "source": [
    "pwskills2.mobile_num"
   ]
  },
  {
   "cell_type": "code",
   "execution_count": null,
   "id": "3e82a0ef-b51b-4035-9190-53eebe840243",
   "metadata": {},
   "outputs": [],
   "source": []
  },
  {
   "cell_type": "code",
   "execution_count": 33,
   "id": "9eba524c-e3d6-4a3c-9241-5a67c0295455",
   "metadata": {},
   "outputs": [],
   "source": [
    "class pwskills3 :\n",
    "    \n",
    "    mobile_num = 62058686\n",
    "    \n",
    "    def __init__(self, name, email) :\n",
    "        self.name = name\n",
    "        self.email = email\n",
    "        \n",
    "        \n",
    "    @classmethod\n",
    "    def change_number(cls, mobile):\n",
    "        pwskills2.mobile_num = mobile\n",
    "        \n",
    "    @classmethod\n",
    "    def details(cls, name, email):\n",
    "        return cls(name, email)\n",
    "    \n",
    "    def student_details(self):\n",
    "        print(self.name, self.email,pwskills2.mobile_num)\n",
    "        \n",
    "        "
   ]
  },
  {
   "cell_type": "code",
   "execution_count": 34,
   "id": "eba95207-dd5c-450b-830e-dbba8038ea96",
   "metadata": {},
   "outputs": [],
   "source": [
    "def course_details(cls, course_name) :\n",
    "    print(\"course name is \", course_name)"
   ]
  },
  {
   "cell_type": "code",
   "execution_count": 35,
   "id": "96a1f297-6e8f-407e-a1ae-ac9df7bb7fd4",
   "metadata": {},
   "outputs": [],
   "source": [
    "pwskills3.course_details = classmethod(course_details) "
   ]
  },
  {
   "cell_type": "code",
   "execution_count": 36,
   "id": "8a3516f8-457a-4636-9ee0-3310cc0ec985",
   "metadata": {},
   "outputs": [
    {
     "name": "stdout",
     "output_type": "stream",
     "text": [
      "course name is  data science master\n"
     ]
    }
   ],
   "source": [
    "pwskills3.course_details(\"data science master\")"
   ]
  },
  {
   "cell_type": "code",
   "execution_count": 37,
   "id": "57c46949-cadc-4e69-bca5-917e90b2eacc",
   "metadata": {},
   "outputs": [],
   "source": [
    "def mentor(cls, list_of_mentor) :\n",
    "    print(list_of_mentor)"
   ]
  },
  {
   "cell_type": "code",
   "execution_count": 38,
   "id": "a2ae0be1-42eb-4a16-98fd-22035c47fddf",
   "metadata": {},
   "outputs": [],
   "source": [
    "pwskills3.mentor =classmethod(mentor)"
   ]
  },
  {
   "cell_type": "code",
   "execution_count": 39,
   "id": "9e8ba5b7-f1af-40a0-ad9a-9c9b9a691ff5",
   "metadata": {},
   "outputs": [
    {
     "name": "stdout",
     "output_type": "stream",
     "text": [
      "['sudh', 'krish neik']\n"
     ]
    }
   ],
   "source": [
    "pwskills3.mentor([\"sudh\",\"krish neik\"])"
   ]
  },
  {
   "cell_type": "code",
   "execution_count": 40,
   "id": "6efa1f24-5233-4648-b657-36ef8d44a948",
   "metadata": {},
   "outputs": [],
   "source": [
    "class pwskills4 :\n",
    "    \n",
    "    mobile_num = 62058686\n",
    "    \n",
    "    def __init__(self, name, email) :\n",
    "        self.name = name\n",
    "        self.email = email\n",
    "        \n",
    "        \n",
    "    @classmethod\n",
    "    def change_number(cls, mobile):\n",
    "        pwskills2.mobile_num = mobile\n",
    "        \n",
    "    @classmethod\n",
    "    def details(cls, name, email):\n",
    "        return cls(name, email)\n",
    "    \n",
    "    def student_details(self):\n",
    "        print(self.name, self.email,pwskills2.mobile_num)"
   ]
  },
  {
   "cell_type": "code",
   "execution_count": 42,
   "id": "184f0f6a-c76f-41d8-9c69-e8d94ec38b80",
   "metadata": {},
   "outputs": [],
   "source": [
    "del pwskills4.change_number"
   ]
  },
  {
   "cell_type": "code",
   "execution_count": 44,
   "id": "9af4edc9-b23e-4380-bac3-ac5c310ff505",
   "metadata": {},
   "outputs": [],
   "source": [
    "delattr(pwskills4,\"details\")"
   ]
  },
  {
   "cell_type": "code",
   "execution_count": 45,
   "id": "2822a30a-e692-4171-ab0d-80f5bbf70261",
   "metadata": {},
   "outputs": [],
   "source": [
    "delattr(pwskills4,\"student_details\")"
   ]
  },
  {
   "cell_type": "code",
   "execution_count": 46,
   "id": "a45ea311-c6dc-44b3-a361-b05d317374d8",
   "metadata": {},
   "outputs": [],
   "source": [
    "delattr(pwskills4,\"mobile_num\")"
   ]
  },
  {
   "cell_type": "code",
   "execution_count": 43,
   "id": "90320bd0-e391-48dd-98e8-54346ddf9f4a",
   "metadata": {},
   "outputs": [
    {
     "ename": "AttributeError",
     "evalue": "type object 'pwskills4' has no attribute 'change_number'",
     "output_type": "error",
     "traceback": [
      "\u001b[0;31m---------------------------------------------------------------------------\u001b[0m",
      "\u001b[0;31mAttributeError\u001b[0m                            Traceback (most recent call last)",
      "Cell \u001b[0;32mIn[43], line 1\u001b[0m\n\u001b[0;32m----> 1\u001b[0m \u001b[43mpwskills4\u001b[49m\u001b[38;5;241;43m.\u001b[39;49m\u001b[43mchange_number\u001b[49m(\u001b[38;5;241m111112344\u001b[39m)\n",
      "\u001b[0;31mAttributeError\u001b[0m: type object 'pwskills4' has no attribute 'change_number'"
     ]
    }
   ],
   "source": [
    "pwskills4.change_number(111112344)"
   ]
  },
  {
   "cell_type": "code",
   "execution_count": 47,
   "id": "fa0b3cce-c242-4ffb-8fe9-5a25563850d0",
   "metadata": {},
   "outputs": [
    {
     "ename": "AttributeError",
     "evalue": "type object 'pwskills4' has no attribute 'details'",
     "output_type": "error",
     "traceback": [
      "\u001b[0;31m---------------------------------------------------------------------------\u001b[0m",
      "\u001b[0;31mAttributeError\u001b[0m                            Traceback (most recent call last)",
      "Cell \u001b[0;32mIn[47], line 1\u001b[0m\n\u001b[0;32m----> 1\u001b[0m \u001b[43mpwskills4\u001b[49m\u001b[38;5;241;43m.\u001b[39;49m\u001b[43mdetails\u001b[49m()\n",
      "\u001b[0;31mAttributeError\u001b[0m: type object 'pwskills4' has no attribute 'details'"
     ]
    }
   ],
   "source": [
    "pwskills4.details()"
   ]
  },
  {
   "cell_type": "code",
   "execution_count": null,
   "id": "4d76b63f-a746-4cf6-97f4-1046f9dde95b",
   "metadata": {},
   "outputs": [],
   "source": []
  }
 ],
 "metadata": {
  "kernelspec": {
   "display_name": "Python 3 (ipykernel)",
   "language": "python",
   "name": "python3"
  },
  "language_info": {
   "codemirror_mode": {
    "name": "ipython",
    "version": 3
   },
   "file_extension": ".py",
   "mimetype": "text/x-python",
   "name": "python",
   "nbconvert_exporter": "python",
   "pygments_lexer": "ipython3",
   "version": "3.10.8"
  }
 },
 "nbformat": 4,
 "nbformat_minor": 5
}
