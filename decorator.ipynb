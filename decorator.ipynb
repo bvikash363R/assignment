{
 "cells": [
  {
   "cell_type": "code",
   "execution_count": 4,
   "id": "dc7b6b47-5714-492e-a81c-b2e69b744be1",
   "metadata": {},
   "outputs": [],
   "source": [
    "def test() :\n",
    "    print(\"this is the start of my fun\")\n",
    "    print(\"this is my fun to test\")\n",
    "    print(5+7)\n",
    "    print(\"this is the end of my fun\")\n",
    "    "
   ]
  },
  {
   "cell_type": "code",
   "execution_count": 5,
   "id": "3974bb7a-ecf8-4baa-9498-519d0fb7385c",
   "metadata": {},
   "outputs": [
    {
     "name": "stdout",
     "output_type": "stream",
     "text": [
      "this is the start of my fun\n",
      "this is my fun to test\n",
      "12\n",
      "this is the end of my fun\n"
     ]
    }
   ],
   "source": [
    "test()"
   ]
  },
  {
   "cell_type": "code",
   "execution_count": 6,
   "id": "28371a5d-2f3f-4e52-831d-5a3f62789936",
   "metadata": {},
   "outputs": [],
   "source": [
    "def decorate(func) :\n",
    "    def inner_dec():     \n",
    "        print(\"this is the start of my fun\")\n",
    "        func()\n",
    "        print(\"this is the end of my fun\")\n",
    "        \n",
    "    return inner_dec    \n",
    "        \n",
    "        "
   ]
  },
  {
   "cell_type": "code",
   "execution_count": 7,
   "id": "f8513495-039f-48d1-837e-c0a77563a57c",
   "metadata": {},
   "outputs": [],
   "source": [
    "@decorate\n",
    "def test1():\n",
    "    print(4+6)"
   ]
  },
  {
   "cell_type": "code",
   "execution_count": 8,
   "id": "7f6741ce-79c2-4f7e-a777-a50b5a94f5ca",
   "metadata": {},
   "outputs": [
    {
     "name": "stdout",
     "output_type": "stream",
     "text": [
      "this is the start of my fun\n",
      "10\n",
      "this is the end of my fun\n"
     ]
    }
   ],
   "source": [
    "test1()"
   ]
  },
  {
   "cell_type": "code",
   "execution_count": 9,
   "id": "5f7dbe10-7e3c-4cbb-a0f0-76f4e0e57b05",
   "metadata": {},
   "outputs": [],
   "source": [
    "import time \n",
    "\n",
    "def timer_test(func):\n",
    "    def inner_test() :\n",
    "        start = time.time()\n",
    "        func()\n",
    "        end = time.time()\n",
    "        print(start+end)\n",
    "    return inner_test    "
   ]
  },
  {
   "cell_type": "code",
   "execution_count": 12,
   "id": "0354474b-2c4e-42c7-8759-aeb864b59d6a",
   "metadata": {},
   "outputs": [],
   "source": [
    "@timer_test\n",
    "def test2():\n",
    "    print(45+78)"
   ]
  },
  {
   "cell_type": "code",
   "execution_count": 13,
   "id": "1b7e761d-ff32-4b3d-8922-d3a108701ca4",
   "metadata": {},
   "outputs": [
    {
     "name": "stdout",
     "output_type": "stream",
     "text": [
      "123\n",
      "3381881387.6005\n"
     ]
    }
   ],
   "source": [
    "test2()"
   ]
  },
  {
   "cell_type": "code",
   "execution_count": 15,
   "id": "1cc0e9cd-a11b-491a-99fd-48a7996e7b08",
   "metadata": {},
   "outputs": [],
   "source": [
    "@timer_test\n",
    "def test3():\n",
    "    for i in range(100000000):\n",
    "        pass"
   ]
  },
  {
   "cell_type": "code",
   "execution_count": 16,
   "id": "f0540c65-ccfe-48fa-88a3-a29686fc74e7",
   "metadata": {},
   "outputs": [
    {
     "name": "stdout",
     "output_type": "stream",
     "text": [
      "3381881552.871719\n"
     ]
    }
   ],
   "source": [
    "test3() "
   ]
  },
  {
   "cell_type": "code",
   "execution_count": null,
   "id": "d36ae807-7a4c-4ef7-a3b4-f239f350ef69",
   "metadata": {},
   "outputs": [],
   "source": []
  }
 ],
 "metadata": {
  "kernelspec": {
   "display_name": "Python 3 (ipykernel)",
   "language": "python",
   "name": "python3"
  },
  "language_info": {
   "codemirror_mode": {
    "name": "ipython",
    "version": 3
   },
   "file_extension": ".py",
   "mimetype": "text/x-python",
   "name": "python",
   "nbconvert_exporter": "python",
   "pygments_lexer": "ipython3",
   "version": "3.10.8"
  }
 },
 "nbformat": 4,
 "nbformat_minor": 5
}
